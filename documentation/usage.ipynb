{
 "cells": [
  {
   "cell_type": "code",
   "execution_count": null,
   "metadata": {},
   "outputs": [],
   "source": [
    "from oct_onh import loading_utils\n",
    "from oct_onh import octvolume\n",
    "import numpy as np\n",
    "from oct_onh.opticdisc import OpticDiscVolume\n",
    "path = '../resources/example_topcon.dcm'"
   ]
  },
  {
   "cell_type": "code",
   "execution_count": 2,
   "metadata": {},
   "outputs": [],
   "source": [
    "volume = octvolume.OCT3DVolume.from_file(path)"
   ]
  },
  {
   "cell_type": "code",
   "execution_count": null,
   "metadata": {},
   "outputs": [
    {
     "name": "stdout",
     "output_type": "stream",
     "text": [
      "nnUNet_raw is not defined and nnU-Net can only be used on data for which preprocessed files are already present on your system. nnU-Net cannot be used for experiment planning and preprocessing like this. If this is not intended, please read documentation/setting_up_paths.md for information on how to set this up properly.\n",
      "nnUNet_preprocessed is not defined and nnU-Net can not be used for preprocessing or training. If this is not intended, please read documentation/setting_up_paths.md for information on how to set this up.\n"
     ]
    }
   ],
   "source": [
    "from oct_onh import model\n",
    "segmodel = model.ONHSegmentationModel(path='/mnt/oogergo/eyened/nnunet/models/Dataset603_papil_corrected/nnUNetTrainer__nnUNetPlans__2d')"
   ]
  },
  {
   "cell_type": "code",
   "execution_count": 5,
   "metadata": {},
   "outputs": [
    {
     "name": "stdout",
     "output_type": "stream",
     "text": [
      "nnUNet_raw is not defined and nnU-Net can only be used on data for which preprocessed files are already present on your system. nnU-Net cannot be used for experiment planning and preprocessing like this. If this is not intended, please read documentation/setting_up_paths.md for information on how to set this up properly.\n",
      "nnUNet_preprocessed is not defined and nnU-Net can not be used for preprocessing or training. If this is not intended, please read documentation/setting_up_paths.md for information on how to set this up.\n",
      "\n",
      "Predicting image of shape torch.Size([1, 128, 885, 512]):\n",
      "perform_everything_on_device: True\n"
     ]
    },
    {
     "name": "stderr",
     "output_type": "stream",
     "text": [
      "100%|██████████| 512/512 [00:15<00:00, 33.13it/s]\n",
      "100%|██████████| 512/512 [00:16<00:00, 31.83it/s]\n",
      "100%|██████████| 512/512 [00:16<00:00, 30.60it/s]\n",
      "100%|██████████| 512/512 [00:17<00:00, 30.03it/s]\n",
      "100%|██████████| 512/512 [00:17<00:00, 29.45it/s]\n"
     ]
    },
    {
     "name": "stdout",
     "output_type": "stream",
     "text": [
      "sending off prediction to background worker for resampling\n",
      "\n",
      "Done with image of shape torch.Size([1, 128, 885, 512]):\n"
     ]
    }
   ],
   "source": [
    "segmentation = segmodel.predict(volume.image)"
   ]
  },
  {
   "cell_type": "code",
   "execution_count": 6,
   "metadata": {},
   "outputs": [
    {
     "data": {
      "text/plain": [
       "'../resources/example_topcon.binary.gz'"
      ]
     },
     "execution_count": 6,
     "metadata": {},
     "output_type": "execute_result"
    }
   ],
   "source": [
    "\n",
    "loading_utils.save_gzip_binary(segmentation, '../resources/example_topcon.binary.gz')\n"
   ]
  },
  {
   "cell_type": "code",
   "execution_count": null,
   "metadata": {},
   "outputs": [
    {
     "name": "stdout",
     "output_type": "stream",
     "text": [
      "nnUNet_raw is not defined and nnU-Net can only be used on data for which preprocessed files are already present on your system. nnU-Net cannot be used for experiment planning and preprocessing like this. If this is not intended, please read documentation/setting_up_paths.md for information on how to set this up properly.\n",
      "nnUNet_preprocessed is not defined and nnU-Net can not be used for preprocessing or training. If this is not intended, please read documentation/setting_up_paths.md for information on how to set this up.\n",
      "\n",
      "Predicting image of shape torch.Size([1, 128, 885, 512]):\n",
      "perform_everything_on_device: True\n"
     ]
    },
    {
     "name": "stderr",
     "output_type": "stream",
     "text": [
      "100%|██████████| 512/512 [00:15<00:00, 33.99it/s]\n",
      "100%|██████████| 512/512 [00:16<00:00, 31.38it/s]\n",
      "100%|██████████| 512/512 [00:16<00:00, 30.29it/s]\n",
      "100%|██████████| 512/512 [00:17<00:00, 29.58it/s]\n",
      "100%|██████████| 512/512 [00:17<00:00, 29.20it/s]\n"
     ]
    },
    {
     "name": "stdout",
     "output_type": "stream",
     "text": [
      "sending off prediction to background worker for resampling\n",
      "\n",
      "Done with image of shape torch.Size([1, 128, 885, 512]):\n"
     ]
    }
   ],
   "source": [
    "\n",
    "\n",
    "labeled_volume = OpticDiscVolume.from_file_with_model(path, segmodel)"
   ]
  },
  {
   "cell_type": "code",
   "execution_count": null,
   "metadata": {},
   "outputs": [],
   "source": [
    "\n",
    "labeled_volume = OpticDiscVolume.from_file_with_mask(path, '../resources/example_topcon.binary.gz')"
   ]
  },
  {
   "cell_type": "code",
   "execution_count": 9,
   "metadata": {},
   "outputs": [
    {
     "ename": "TypeError",
     "evalue": "OCTBScan.__init__() got an unexpected keyword argument 'image'",
     "output_type": "error",
     "traceback": [
      "\u001b[0;31m---------------------------------------------------------------------------\u001b[0m",
      "\u001b[0;31mTypeError\u001b[0m                                 Traceback (most recent call last)",
      "Cell \u001b[0;32mIn[9], line 1\u001b[0m\n\u001b[0;32m----> 1\u001b[0m \u001b[43mlabeled_volume\u001b[49m\u001b[38;5;241;43m.\u001b[39;49m\u001b[43mget_all_features\u001b[49m\u001b[43m(\u001b[49m\u001b[43m)\u001b[49m\n",
      "File \u001b[0;32m~/OCT-ONH/oct_onh/opticdisc.py:894\u001b[0m, in \u001b[0;36mOpticDiscVolume.get_all_features\u001b[0;34m(self)\u001b[0m\n\u001b[1;32m    891\u001b[0m rnfl_features \u001b[38;5;241m=\u001b[39m rnfl_features \u001b[38;5;241m|\u001b[39m \u001b[38;5;28mself\u001b[39m\u001b[38;5;241m.\u001b[39mget_rnfl_thickness_circular(\u001b[38;5;241m1.75\u001b[39m)\n\u001b[1;32m    892\u001b[0m rnfl_features \u001b[38;5;241m=\u001b[39m rnfl_features \u001b[38;5;241m|\u001b[39m \u001b[38;5;28mself\u001b[39m\u001b[38;5;241m.\u001b[39mget_rnfl_thickness_circular(\u001b[38;5;241m2.05\u001b[39m)\n\u001b[0;32m--> 894\u001b[0m minimal_rim_width \u001b[38;5;241m=\u001b[39m \u001b[38;5;28;43mself\u001b[39;49m\u001b[38;5;241;43m.\u001b[39;49m\u001b[43mget_minimal_rim_width\u001b[49m\u001b[43m(\u001b[49m\u001b[43m)\u001b[49m\n\u001b[1;32m    895\u001b[0m ppa_features \u001b[38;5;241m=\u001b[39m \u001b[38;5;28mself\u001b[39m\u001b[38;5;241m.\u001b[39mget_ppa_area()\n\u001b[1;32m    896\u001b[0m lc_features \u001b[38;5;241m=\u001b[39m \u001b[38;5;28mself\u001b[39m\u001b[38;5;241m.\u001b[39mget_cup_depth()\n",
      "File \u001b[0;32m~/OCT-ONH/oct_onh/opticdisc.py:481\u001b[0m, in \u001b[0;36mAbstractOpticDiscOCT.get_minimal_rim_width\u001b[0;34m(self)\u001b[0m\n\u001b[1;32m    480\u001b[0m \u001b[38;5;28;01mdef\u001b[39;00m \u001b[38;5;21mget_minimal_rim_width\u001b[39m(\u001b[38;5;28mself\u001b[39m):\n\u001b[0;32m--> 481\u001b[0m     angles, measurements \u001b[38;5;241m=\u001b[39m \u001b[38;5;28;43mself\u001b[39;49m\u001b[38;5;241;43m.\u001b[39;49m\u001b[43mget_mrw_raw\u001b[49m\u001b[43m(\u001b[49m\u001b[43m)\u001b[49m\n\u001b[1;32m    482\u001b[0m     results \u001b[38;5;241m=\u001b[39m {}\n\u001b[1;32m    483\u001b[0m     clock_hours \u001b[38;5;241m=\u001b[39m \u001b[38;5;28mself\u001b[39m\u001b[38;5;241m.\u001b[39mget_clock_hours(angles, measurements)\n",
      "File \u001b[0;32m~/OCT-ONH/oct_onh/opticdisc.py:466\u001b[0m, in \u001b[0;36mAbstractOpticDiscOCT.get_mrw_raw\u001b[0;34m(self)\u001b[0m\n\u001b[1;32m    464\u001b[0m extracted_angles \u001b[38;5;241m=\u001b[39m []\n\u001b[1;32m    465\u001b[0m rim_widths \u001b[38;5;241m=\u001b[39m []\n\u001b[0;32m--> 466\u001b[0m bscans \u001b[38;5;241m=\u001b[39m \u001b[38;5;28;43mself\u001b[39;49m\u001b[38;5;241;43m.\u001b[39;49m\u001b[43mget_radial_bscans\u001b[49m\u001b[43m(\u001b[49m\u001b[43m)\u001b[49m\n\u001b[1;32m    467\u001b[0m \u001b[38;5;28;01mfor\u001b[39;00m bscan \u001b[38;5;129;01min\u001b[39;00m bscans:\n\u001b[1;32m    468\u001b[0m     this_result \u001b[38;5;241m=\u001b[39m bscan\u001b[38;5;241m.\u001b[39mget_minimal_rim_width()\n",
      "File \u001b[0;32m~/OCT-ONH/oct_onh/opticdisc.py:851\u001b[0m, in \u001b[0;36mOpticDiscVolume.get_radial_bscans\u001b[0;34m(self)\u001b[0m\n\u001b[1;32m    849\u001b[0m     \u001b[38;5;28mself\u001b[39m\u001b[38;5;241m.\u001b[39mdetect_bm_opening()\n\u001b[1;32m    850\u001b[0m angles \u001b[38;5;241m=\u001b[39m np\u001b[38;5;241m.\u001b[39mlinspace(\u001b[38;5;241m0\u001b[39m, np\u001b[38;5;241m.\u001b[39mpi, \u001b[38;5;241m24\u001b[39m, endpoint\u001b[38;5;241m=\u001b[39m\u001b[38;5;28;01mFalse\u001b[39;00m)\n\u001b[0;32m--> 851\u001b[0m bscans \u001b[38;5;241m=\u001b[39m \u001b[43m[\u001b[49m\u001b[38;5;28;43mself\u001b[39;49m\u001b[38;5;241;43m.\u001b[39;49m\u001b[43mget_radial_scan\u001b[49m\u001b[43m(\u001b[49m\u001b[43mangle\u001b[49m\u001b[43m)\u001b[49m\u001b[43m \u001b[49m\u001b[38;5;28;43;01mfor\u001b[39;49;00m\u001b[43m \u001b[49m\u001b[43mangle\u001b[49m\u001b[43m \u001b[49m\u001b[38;5;129;43;01min\u001b[39;49;00m\u001b[43m \u001b[49m\u001b[43mangles\u001b[49m\u001b[43m]\u001b[49m\n\u001b[1;32m    852\u001b[0m \u001b[38;5;28;01mreturn\u001b[39;00m bscans\n",
      "File \u001b[0;32m~/OCT-ONH/oct_onh/opticdisc.py:851\u001b[0m, in \u001b[0;36m<listcomp>\u001b[0;34m(.0)\u001b[0m\n\u001b[1;32m    849\u001b[0m     \u001b[38;5;28mself\u001b[39m\u001b[38;5;241m.\u001b[39mdetect_bm_opening()\n\u001b[1;32m    850\u001b[0m angles \u001b[38;5;241m=\u001b[39m np\u001b[38;5;241m.\u001b[39mlinspace(\u001b[38;5;241m0\u001b[39m, np\u001b[38;5;241m.\u001b[39mpi, \u001b[38;5;241m24\u001b[39m, endpoint\u001b[38;5;241m=\u001b[39m\u001b[38;5;28;01mFalse\u001b[39;00m)\n\u001b[0;32m--> 851\u001b[0m bscans \u001b[38;5;241m=\u001b[39m [\u001b[38;5;28;43mself\u001b[39;49m\u001b[38;5;241;43m.\u001b[39;49m\u001b[43mget_radial_scan\u001b[49m\u001b[43m(\u001b[49m\u001b[43mangle\u001b[49m\u001b[43m)\u001b[49m \u001b[38;5;28;01mfor\u001b[39;00m angle \u001b[38;5;129;01min\u001b[39;00m angles]\n\u001b[1;32m    852\u001b[0m \u001b[38;5;28;01mreturn\u001b[39;00m bscans\n",
      "File \u001b[0;32m~/OCT-ONH/oct_onh/opticdisc.py:842\u001b[0m, in \u001b[0;36mOpticDiscVolume.get_radial_scan\u001b[0;34m(self, angle)\u001b[0m\n\u001b[1;32m    840\u001b[0m     scan \u001b[38;5;241m=\u001b[39m np\u001b[38;5;241m.\u001b[39mzeros(segmentation\u001b[38;5;241m.\u001b[39mshape)\n\u001b[1;32m    841\u001b[0m res_x \u001b[38;5;241m=\u001b[39m \u001b[38;5;241m2\u001b[39m\u001b[38;5;241m*\u001b[39mlength_mm \u001b[38;5;241m/\u001b[39m \u001b[38;5;241m500\u001b[39m\n\u001b[0;32m--> 842\u001b[0m bscan \u001b[38;5;241m=\u001b[39m \u001b[43mOCTBScan\u001b[49m\u001b[43m(\u001b[49m\u001b[43mimage\u001b[49m\u001b[38;5;241;43m=\u001b[39;49m\u001b[43mscan\u001b[49m\u001b[43m,\u001b[49m\u001b[43m \u001b[49m\u001b[43mres_height_mm\u001b[49m\u001b[38;5;241;43m=\u001b[39;49m\u001b[38;5;28;43mself\u001b[39;49m\u001b[38;5;241;43m.\u001b[39;49m\u001b[43mres_height_mm\u001b[49m\u001b[43m,\u001b[49m\u001b[43m \u001b[49m\u001b[43mres_width_mm\u001b[49m\u001b[38;5;241;43m=\u001b[39;49m\u001b[43mres_x\u001b[49m\u001b[43m,\u001b[49m\u001b[43m \u001b[49m\u001b[43mlaterality\u001b[49m\u001b[38;5;241;43m=\u001b[39;49m\u001b[38;5;28;43mself\u001b[39;49m\u001b[38;5;241;43m.\u001b[39;49m\u001b[43mlaterality\u001b[49m\u001b[43m,\u001b[49m\u001b[43m \u001b[49m\u001b[43mfixation\u001b[49m\u001b[38;5;241;43m=\u001b[39;49m\u001b[38;5;28;43mself\u001b[39;49m\u001b[38;5;241;43m.\u001b[39;49m\u001b[43mfixation\u001b[49m\u001b[43m)\u001b[49m\n\u001b[1;32m    843\u001b[0m \u001b[38;5;28;01mreturn\u001b[39;00m OpticDiscRadialBScan(bscan\u001b[38;5;241m=\u001b[39mbscan, mask\u001b[38;5;241m=\u001b[39msegmentation, rnfl_mask\u001b[38;5;241m=\u001b[39mrnfl_mask, \n\u001b[1;32m    844\u001b[0m                             startpoint\u001b[38;5;241m=\u001b[39m(startpoint_x, startpoint_z), endpoint\u001b[38;5;241m=\u001b[39m(endpoint_x, endpoint_z),\n\u001b[1;32m    845\u001b[0m                             res_y_enface\u001b[38;5;241m=\u001b[39m\u001b[38;5;28mself\u001b[39m\u001b[38;5;241m.\u001b[39mresolution[\u001b[38;5;241m0\u001b[39m], res_x_enface\u001b[38;5;241m=\u001b[39m\u001b[38;5;28mself\u001b[39m\u001b[38;5;241m.\u001b[39mresolution[\u001b[38;5;241m2\u001b[39m])\n",
      "\u001b[0;31mTypeError\u001b[0m: OCTBScan.__init__() got an unexpected keyword argument 'image'"
     ]
    }
   ],
   "source": [
    "labeled_volume.get_all_features()"
   ]
  }
 ],
 "metadata": {
  "kernelspec": {
   "display_name": "rtnls-env",
   "language": "python",
   "name": "python3"
  },
  "language_info": {
   "codemirror_mode": {
    "name": "ipython",
    "version": 3
   },
   "file_extension": ".py",
   "mimetype": "text/x-python",
   "name": "python",
   "nbconvert_exporter": "python",
   "pygments_lexer": "ipython3",
   "version": "3.11.8"
  }
 },
 "nbformat": 4,
 "nbformat_minor": 2
}
