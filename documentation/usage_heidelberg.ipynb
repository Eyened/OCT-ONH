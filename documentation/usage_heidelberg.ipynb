{
 "cells": [
  {
   "cell_type": "code",
   "execution_count": 1,
   "metadata": {},
   "outputs": [],
   "source": [
    "from oct_onh.opticdisc import OpticDiscOCTEnfaceGroup, OpticDiscCircularBScan, OpticDiscRadialBScan, OpticDiscBscan\n",
    "from oct_onh.octbscan import OCTBScan\n",
    "import numpy as np"
   ]
  },
  {
   "cell_type": "markdown",
   "metadata": {},
   "source": [
    "## Description of how to create the OCT objects"
   ]
  },
  {
   "cell_type": "code",
   "execution_count": 3,
   "metadata": {},
   "outputs": [],
   "source": [
    "## Load the b-scan from file\n",
    "## E.g. image = np.array(Image.open('path/to/image.png'))\n",
    "## Now using random noise for demonstration\n",
    "image = np.random.rand(512, 512)\n",
    "## Load the enface image (e.g. IR localizer) from file\n",
    "## E.g. enface_image = np.array(Image.open('path/to/enface_image.png'))\n",
    "enface_image = np.random.rand(512, 512)\n",
    "\n",
    "## Provide metadata: resolution in mm and laterality as 'L' or 'R'\n",
    "bscan = OCTBScan(\n",
    "    imagedata=image,\n",
    "    res_width_mm = 0.01, ## along the x-axis of the b-scan\n",
    "    res_height_mm = 0.0038, ## along the y-axis of the b-scan\n",
    "    rows_y=image.shape[0],\n",
    "    columns_x=image.shape[1],\n",
    "    laterality = \"R\"\n",
    "    )\n",
    "\n",
    "## If the b-scan is a circular scan, provide the center and radius\n",
    "circular_bscan = OpticDiscCircularBScan(\n",
    "    bscan=bscan,\n",
    "    mask=np.random.rand(512,512), center=(200,200),\n",
    "    radius= 100, start_angle=np.pi, real_diameter=1.0\n",
    ")\n",
    "\n",
    "## If the b-scan is a radial scan, provide the start and end point in enface coordinates and the resolution of the enface image\n",
    "## This is used to calculate the angle of the scan and location of BMO endpoints\n",
    "radial_scan = OpticDiscRadialBScan(mask=np.random.rand(512,512), bscan=bscan, startpoint=(1,1), endpoint=(10,10),\n",
    "                                        res_y_enface=0.001,\n",
    "                                        res_x_enface=0.001)\n",
    "\n",
    "## Combine any number of b-scans into a group to extract combined features\n",
    "grouped = OpticDiscOCTEnfaceGroup(enface_image=enface_image, bscans=[radial_scan, circular_bscan], \n",
    "                                       laterality='L', enface_resolution=0.001)"
   ]
  },
  {
   "cell_type": "markdown",
   "metadata": {},
   "source": [
    "## Loading the example from file"
   ]
  },
  {
   "cell_type": "code",
   "execution_count": 2,
   "metadata": {},
   "outputs": [],
   "source": [
    "import json\n",
    "with open('../resources/heidelberg_example/locations.json', 'r') as f:\n",
    "    locations = json.load(f)"
   ]
  },
  {
   "cell_type": "code",
   "execution_count": 3,
   "metadata": {},
   "outputs": [],
   "source": [
    "from PIL import Image\n",
    "\n",
    "## Using the example data\n",
    "bscans = []\n",
    "for i, locs in enumerate(locations):\n",
    "    path = f'../resources/heidelberg_example/OCT-0_{i}.png'\n",
    "    image = np.array(Image.open(path))\n",
    "    bscan = OCTBScan(\n",
    "        imagedata=image,\n",
    "        res_width_mm = 0.0057, ## along the x-axis of the b-scan\n",
    "        res_height_mm = 0.0038, ## along the y-axis of the b-scan\n",
    "        rows_y=image.shape[0],\n",
    "        columns_x=image.shape[1],\n",
    "        laterality = \"R\"\n",
    "    )\n",
    "    if 'start' in locs:\n",
    "        optic_disc_scan = OpticDiscRadialBScan(bscan=bscan, \n",
    "                                            startpoint=(locs['start']['x'], locs['start']['y']), \n",
    "                                            endpoint=(locs['end']['x'], locs['end']['y']),\n",
    "                                            res_y_enface=0.0057, res_x_enface=0.0057)\n",
    "    else:\n",
    "        optic_disc_scan = OpticDiscCircularBScan(bscan=bscan,\n",
    "                                            center=(locs['centre']['x'], locs['centre']['y']),\n",
    "                                            radius=locs['radius'], start_angle=locs['start_angle'],\n",
    "                                            real_diameter=0.0057*locs['radius']*2)\n",
    "    bscans.append(optic_disc_scan)\n",
    "\n",
    "enface_image = np.array(Image.open('../resources/heidelberg_example/SLO_IR-0_0.png'))\n",
    "grouped = OpticDiscOCTEnfaceGroup(enface_image=enface_image, bscans=bscans, laterality='R', enface_resolution=0.0057)\n",
    "    "
   ]
  },
  {
   "cell_type": "markdown",
   "metadata": {},
   "source": [
    "## Load the masks, or..."
   ]
  },
  {
   "cell_type": "code",
   "execution_count": 7,
   "metadata": {},
   "outputs": [],
   "source": [
    "from oct_onh.loading_utils import load_gzip_binary\n",
    "\n",
    "segmentation = load_gzip_binary('../resources/heidelberg_example/segmentation.binary.gz', image.shape[0], image.shape[1])"
   ]
  },
  {
   "cell_type": "markdown",
   "metadata": {},
   "source": [
    "## ... apply the model"
   ]
  },
  {
   "cell_type": "code",
   "execution_count": null,
   "metadata": {},
   "outputs": [
    {
     "name": "stderr",
     "output_type": "stream",
     "text": [
      "/home/kvangarderen/rtnls-env/lib/python3.11/site-packages/nnunetv2/utilities/plans_handling/plans_handler.py:37: UserWarning: Detected old nnU-Net plans format. Attempting to reconstruct network architecture parameters. If this fails, rerun nnUNetv2_plan_experiment for your dataset. If you use a custom architecture, please downgrade nnU-Net to the version you implemented this or update your implementation + plans.\n",
      "  warnings.warn(\"Detected old nnU-Net plans format. Attempting to reconstruct network architecture \"\n"
     ]
    },
    {
     "name": "stdout",
     "output_type": "stream",
     "text": [
      "nnUNet_raw is not defined and nnU-Net can only be used on data for which preprocessed files are already present on your system. nnU-Net cannot be used for experiment planning and preprocessing like this. If this is not intended, please read documentation/setting_up_paths.md for information on how to set this up properly.\n",
      "nnUNet_preprocessed is not defined and nnU-Net can not be used for preprocessing or training. If this is not intended, please read documentation/setting_up_paths.md for information on how to set this up.\n",
      "\n",
      "Predicting image of shape torch.Size([1, 2, 512, 512]):\n",
      "perform_everything_on_device: True\n"
     ]
    },
    {
     "name": "stderr",
     "output_type": "stream",
     "text": [
      "100%|██████████| 4/4 [00:00<00:00, 35.82it/s]\n",
      "100%|██████████| 4/4 [00:00<00:00, 44.69it/s]\n",
      "100%|██████████| 4/4 [00:00<00:00, 45.61it/s]\n",
      "100%|██████████| 4/4 [00:00<00:00, 45.64it/s]\n",
      "100%|██████████| 4/4 [00:00<00:00, 45.37it/s]\n"
     ]
    },
    {
     "name": "stdout",
     "output_type": "stream",
     "text": [
      "sending off prediction to background worker for resampling\n",
      "\n",
      "Done with image of shape torch.Size([1, 2, 512, 512]):\n"
     ]
    }
   ],
   "source": [
    "from oct_onh import model\n",
    "segmodel = model.ONHSegmentationModel(path = '/path/to/model/files/nnUNetTrainer__nnUNetPlans__2d/')\n",
    "\n",
    "bscan_volume = np.array([b.image for b in grouped.bscans])\n",
    "segmentation = segmodel.predict(bscan_volume)[0]\n"
   ]
  },
  {
   "cell_type": "markdown",
   "metadata": {},
   "source": [
    "## Add the masks to the bscan objects"
   ]
  },
  {
   "cell_type": "code",
   "execution_count": null,
   "metadata": {},
   "outputs": [],
   "source": [
    "for mask, bscan in zip(segmentation, grouped.bscans):\n",
    "    bscan.mask = mask"
   ]
  },
  {
   "cell_type": "markdown",
   "metadata": {},
   "source": [
    "## Extract features"
   ]
  },
  {
   "cell_type": "code",
   "execution_count": 6,
   "metadata": {},
   "outputs": [
    {
     "data": {
      "text/plain": [
       "{'RNFL thickness d=3.4 mm segment T (mm) mean': 0.07643316062176166,\n",
       " 'RNFL thickness d=3.4 mm segment T (mm) n points': 193,\n",
       " 'RNFL thickness d=3.4 mm segment TS (mm) mean': 0.11377647058823527,\n",
       " 'RNFL thickness d=3.4 mm segment TS (mm) n points': 85,\n",
       " 'RNFL thickness d=3.4 mm segment NS (mm) mean': 0.11672705882352946,\n",
       " 'RNFL thickness d=3.4 mm segment NS (mm) n points': 85,\n",
       " 'RNFL thickness d=3.4 mm segment N (mm) mean': 0.08982553191489362,\n",
       " 'RNFL thickness d=3.4 mm segment N (mm) n points': 235,\n",
       " 'RNFL thickness d=3.4 mm segment NI (mm) mean': 0.12611529411764702,\n",
       " 'RNFL thickness d=3.4 mm segment NI (mm) n points': 85,\n",
       " 'RNFL thickness d=3.4 mm segment TI (mm) mean': 0.1533411764705883,\n",
       " 'RNFL thickness d=3.4 mm segment TI (mm) n points': 85,\n",
       " 'RNFL thickness d=3.4 mm hour 0 (mm) mean': 0.1246875,\n",
       " 'RNFL thickness d=3.4 mm hour 0 (mm) n points': 64,\n",
       " 'RNFL thickness d=3.4 mm hour 1 (mm) mean': 0.106340625,\n",
       " 'RNFL thickness d=3.4 mm hour 1 (mm) n points': 64,\n",
       " 'RNFL thickness d=3.4 mm hour 2 (mm) mean': 0.1047375,\n",
       " 'RNFL thickness d=3.4 mm hour 2 (mm) n points': 64,\n",
       " 'RNFL thickness d=3.4 mm hour 3 (mm) mean': 0.0738625,\n",
       " 'RNFL thickness d=3.4 mm hour 3 (mm) n points': 64,\n",
       " 'RNFL thickness d=3.4 mm hour 4 (mm) mean': 0.08360000000000001,\n",
       " 'RNFL thickness d=3.4 mm hour 4 (mm) n points': 64,\n",
       " 'RNFL thickness d=3.4 mm hour 5 (mm) mean': 0.11257500000000001,\n",
       " 'RNFL thickness d=3.4 mm hour 5 (mm) n points': 64,\n",
       " 'RNFL thickness d=3.4 mm hour 6 (mm) mean': 0.151584375,\n",
       " 'RNFL thickness d=3.4 mm hour 6 (mm) n points': 64,\n",
       " 'RNFL thickness d=3.4 mm hour 7 (mm) mean': 0.14487499999999998,\n",
       " 'RNFL thickness d=3.4 mm hour 7 (mm) n points': 64,\n",
       " 'RNFL thickness d=3.4 mm hour 8 (mm) mean': 0.082946875,\n",
       " 'RNFL thickness d=3.4 mm hour 8 (mm) n points': 64,\n",
       " 'RNFL thickness d=3.4 mm hour 9 (mm) mean': 0.06103750000000001,\n",
       " 'RNFL thickness d=3.4 mm hour 9 (mm) n points': 64,\n",
       " 'RNFL thickness d=3.4 mm hour 10 (mm) mean': 0.07825625,\n",
       " 'RNFL thickness d=3.4 mm hour 10 (mm) n points': 64,\n",
       " 'RNFL thickness d=3.4 mm hour 11 (mm) mean': 0.11310937500000001,\n",
       " 'RNFL thickness d=3.4 mm hour 11 (mm) n points': 64,\n",
       " 'RNFL thickness d=3.4 mm quadrant 0 (mm) mean': 0.1147125,\n",
       " 'RNFL thickness d=3.4 mm quadrant 0 (mm) n points': 192,\n",
       " 'RNFL thickness d=3.4 mm quadrant 1 (mm) mean': 0.08739999999999999,\n",
       " 'RNFL thickness d=3.4 mm quadrant 1 (mm) n points': 192,\n",
       " 'RNFL thickness d=3.4 mm quadrant 2 (mm) mean': 0.13634479166666666,\n",
       " 'RNFL thickness d=3.4 mm quadrant 2 (mm) n points': 192,\n",
       " 'RNFL thickness d=3.4 mm quadrant 3 (mm) mean': 0.07408020833333333,\n",
       " 'RNFL thickness d=3.4 mm quadrant 3 (mm) n points': 192,\n",
       " 'RNFL thickness d=4.0 mm segment T (mm) mean': 0.07050673575129535,\n",
       " 'RNFL thickness d=4.0 mm segment T (mm) n points': 193,\n",
       " 'RNFL thickness d=4.0 mm segment TS (mm) mean': 0.10407529411764709,\n",
       " 'RNFL thickness d=4.0 mm segment TS (mm) n points': 85,\n",
       " 'RNFL thickness d=4.0 mm segment NS (mm) mean': 0.09303294117647057,\n",
       " 'RNFL thickness d=4.0 mm segment NS (mm) n points': 85,\n",
       " 'RNFL thickness d=4.0 mm segment N (mm) mean': 0.07933106382978723,\n",
       " 'RNFL thickness d=4.0 mm segment N (mm) n points': 235,\n",
       " 'RNFL thickness d=4.0 mm segment NI (mm) mean': 0.10206352941176476,\n",
       " 'RNFL thickness d=4.0 mm segment NI (mm) n points': 85,\n",
       " 'RNFL thickness d=4.0 mm segment TI (mm) mean': 0.1408682352941177,\n",
       " 'RNFL thickness d=4.0 mm segment TI (mm) n points': 85,\n",
       " 'RNFL thickness d=4.0 mm hour 0 (mm) mean': 0.10058124999999998,\n",
       " 'RNFL thickness d=4.0 mm hour 0 (mm) n points': 64,\n",
       " 'RNFL thickness d=4.0 mm hour 1 (mm) mean': 0.09309999999999999,\n",
       " 'RNFL thickness d=4.0 mm hour 1 (mm) n points': 64,\n",
       " 'RNFL thickness d=4.0 mm hour 2 (mm) mean': 0.092684375,\n",
       " 'RNFL thickness d=4.0 mm hour 2 (mm) n points': 64,\n",
       " 'RNFL thickness d=4.0 mm hour 3 (mm) mean': 0.06365000000000001,\n",
       " 'RNFL thickness d=4.0 mm hour 3 (mm) n points': 64,\n",
       " 'RNFL thickness d=4.0 mm hour 4 (mm) mean': 0.0733875,\n",
       " 'RNFL thickness d=4.0 mm hour 4 (mm) n points': 64,\n",
       " 'RNFL thickness d=4.0 mm hour 5 (mm) mean': 0.095415625,\n",
       " 'RNFL thickness d=4.0 mm hour 5 (mm) n points': 64,\n",
       " 'RNFL thickness d=4.0 mm hour 6 (mm) mean': 0.12581562500000001,\n",
       " 'RNFL thickness d=4.0 mm hour 6 (mm) n points': 64,\n",
       " 'RNFL thickness d=4.0 mm hour 7 (mm) mean': 0.135909375,\n",
       " 'RNFL thickness d=4.0 mm hour 7 (mm) n points': 64,\n",
       " 'RNFL thickness d=4.0 mm hour 8 (mm) mean': 0.07730625,\n",
       " 'RNFL thickness d=4.0 mm hour 8 (mm) n points': 64,\n",
       " 'RNFL thickness d=4.0 mm hour 9 (mm) mean': 0.054387500000000005,\n",
       " 'RNFL thickness d=4.0 mm hour 9 (mm) n points': 64,\n",
       " 'RNFL thickness d=4.0 mm hour 10 (mm) mean': 0.07279374999999999,\n",
       " 'RNFL thickness d=4.0 mm hour 10 (mm) n points': 64,\n",
       " 'RNFL thickness d=4.0 mm hour 11 (mm) mean': 0.1033125,\n",
       " 'RNFL thickness d=4.0 mm hour 11 (mm) n points': 64,\n",
       " 'RNFL thickness d=4.0 mm quadrant 0 (mm) mean': 0.09899791666666667,\n",
       " 'RNFL thickness d=4.0 mm quadrant 0 (mm) n points': 192,\n",
       " 'RNFL thickness d=4.0 mm quadrant 1 (mm) mean': 0.07657395833333334,\n",
       " 'RNFL thickness d=4.0 mm quadrant 1 (mm) n points': 192,\n",
       " 'RNFL thickness d=4.0 mm quadrant 2 (mm) mean': 0.119046875,\n",
       " 'RNFL thickness d=4.0 mm quadrant 2 (mm) n points': 192,\n",
       " 'RNFL thickness d=4.0 mm quadrant 3 (mm) mean': 0.0681625,\n",
       " 'RNFL thickness d=4.0 mm quadrant 3 (mm) n points': 192,\n",
       " 'RNFL thickness d=4.6 mm segment T (mm) mean': 0.06322176165803109,\n",
       " 'RNFL thickness d=4.6 mm segment T (mm) n points': 193,\n",
       " 'RNFL thickness d=4.6 mm segment TS (mm) mean': 0.10210823529411768,\n",
       " 'RNFL thickness d=4.6 mm segment TS (mm) n points': 85,\n",
       " 'RNFL thickness d=4.6 mm segment NS (mm) mean': 0.07653647058823528,\n",
       " 'RNFL thickness d=4.6 mm segment NS (mm) n points': 85,\n",
       " 'RNFL thickness d=4.6 mm segment N (mm) mean': 0.06893361702127658,\n",
       " 'RNFL thickness d=4.6 mm segment N (mm) n points': 235,\n",
       " 'RNFL thickness d=4.6 mm segment NI (mm) mean': 0.08641647058823528,\n",
       " 'RNFL thickness d=4.6 mm segment NI (mm) n points': 85,\n",
       " 'RNFL thickness d=4.6 mm segment TI (mm) mean': 0.12723294117647063,\n",
       " 'RNFL thickness d=4.6 mm segment TI (mm) n points': 85,\n",
       " 'RNFL thickness d=4.6 mm hour 0 (mm) mean': 0.08407500000000001,\n",
       " 'RNFL thickness d=4.6 mm hour 0 (mm) n points': 64,\n",
       " 'RNFL thickness d=4.6 mm hour 1 (mm) mean': 0.07962187500000001,\n",
       " 'RNFL thickness d=4.6 mm hour 1 (mm) n points': 64,\n",
       " 'RNFL thickness d=4.6 mm hour 2 (mm) mean': 0.07718749999999999,\n",
       " 'RNFL thickness d=4.6 mm hour 2 (mm) n points': 64,\n",
       " 'RNFL thickness d=4.6 mm hour 3 (mm) mean': 0.057475,\n",
       " 'RNFL thickness d=4.6 mm hour 3 (mm) n points': 64,\n",
       " 'RNFL thickness d=4.6 mm hour 4 (mm) mean': 0.065371875,\n",
       " 'RNFL thickness d=4.6 mm hour 4 (mm) n points': 64,\n",
       " 'RNFL thickness d=4.6 mm hour 5 (mm) mean': 0.0824125,\n",
       " 'RNFL thickness d=4.6 mm hour 5 (mm) n points': 64,\n",
       " 'RNFL thickness d=4.6 mm hour 6 (mm) mean': 0.106578125,\n",
       " 'RNFL thickness d=4.6 mm hour 6 (mm) n points': 64,\n",
       " 'RNFL thickness d=4.6 mm hour 7 (mm) mean': 0.12528125,\n",
       " 'RNFL thickness d=4.6 mm hour 7 (mm) n points': 64,\n",
       " 'RNFL thickness d=4.6 mm hour 8 (mm) mean': 0.07119062500000001,\n",
       " 'RNFL thickness d=4.6 mm hour 8 (mm) n points': 64,\n",
       " 'RNFL thickness d=4.6 mm hour 9 (mm) mean': 0.04761875,\n",
       " 'RNFL thickness d=4.6 mm hour 9 (mm) n points': 64,\n",
       " 'RNFL thickness d=4.6 mm hour 10 (mm) mean': 0.065846875,\n",
       " 'RNFL thickness d=4.6 mm hour 10 (mm) n points': 64,\n",
       " 'RNFL thickness d=4.6 mm hour 11 (mm) mean': 0.10212500000000001,\n",
       " 'RNFL thickness d=4.6 mm hour 11 (mm) n points': 64,\n",
       " 'RNFL thickness d=4.6 mm quadrant 0 (mm) mean': 0.08860729166666666,\n",
       " 'RNFL thickness d=4.6 mm quadrant 0 (mm) n points': 192,\n",
       " 'RNFL thickness d=4.6 mm quadrant 1 (mm) mean': 0.06667812499999999,\n",
       " 'RNFL thickness d=4.6 mm quadrant 1 (mm) n points': 192,\n",
       " 'RNFL thickness d=4.6 mm quadrant 2 (mm) mean': 0.10475729166666665,\n",
       " 'RNFL thickness d=4.6 mm quadrant 2 (mm) n points': 192,\n",
       " 'RNFL thickness d=4.6 mm quadrant 3 (mm) mean': 0.061552083333333334,\n",
       " 'RNFL thickness d=4.6 mm quadrant 3 (mm) n points': 192,\n",
       " 'Minimal rim width hour 0 mean (mm)': 0.3051421765943089,\n",
       " 'Minimal rim width hour 0 n measurements': 4,\n",
       " 'Minimal rim width hour 1 mean (mm)': 0.25912302248266955,\n",
       " 'Minimal rim width hour 1 n measurements': 4,\n",
       " 'Minimal rim width hour 2 mean (mm)': 0.2884553725191266,\n",
       " 'Minimal rim width hour 2 n measurements': 4,\n",
       " 'Minimal rim width hour 3 mean (mm)': 0.313304026002831,\n",
       " 'Minimal rim width hour 3 n measurements': 4,\n",
       " 'Minimal rim width hour 4 mean (mm)': 0.2996226369838737,\n",
       " 'Minimal rim width hour 4 n measurements': 4,\n",
       " 'Minimal rim width hour 5 mean (mm)': 0.299853101654173,\n",
       " 'Minimal rim width hour 5 n measurements': 4,\n",
       " 'Minimal rim width hour 6 mean (mm)': 0.3472676481959345,\n",
       " 'Minimal rim width hour 6 n measurements': 4,\n",
       " 'Minimal rim width hour 7 mean (mm)': 0.3200123832690507,\n",
       " 'Minimal rim width hour 7 n measurements': 4,\n",
       " 'Minimal rim width hour 8 mean (mm)': 0.21393959315311106,\n",
       " 'Minimal rim width hour 8 n measurements': 4,\n",
       " 'Minimal rim width hour 9 mean (mm)': 0.17197934395082076,\n",
       " 'Minimal rim width hour 9 n measurements': 4,\n",
       " 'Minimal rim width hour 10 mean (mm)': 0.20075247954047873,\n",
       " 'Minimal rim width hour 10 n measurements': 4,\n",
       " 'Minimal rim width hour 11 mean (mm)': 0.24129210648220478,\n",
       " 'Minimal rim width hour 11 n measurements': 4,\n",
       " 'Minimal rim width quadrant 0 mean (mm)': 0.2685191018530611,\n",
       " 'Minimal rim width quadrant 0 n measurements': 12,\n",
       " 'Minimal rim width quadrant 1 mean (mm)': 0.30046067850194375,\n",
       " 'Minimal rim width quadrant 1 n measurements': 12,\n",
       " 'Minimal rim width quadrant 2 mean (mm)': 0.3223777110397194,\n",
       " 'Minimal rim width quadrant 2 n measurements': 12,\n",
       " 'Minimal rim width quadrant 3 mean (mm)': 0.19555713888147017,\n",
       " 'Minimal rim width quadrant 3 n measurements': 12,\n",
       " 'Minimal rim width region T mean (mm)': 0.1980058362380964,\n",
       " 'Minimal rim width region T n measurements': 12,\n",
       " 'Minimal rim width region TS mean (mm)': 0.23920016653316561,\n",
       " 'Minimal rim width region TS n measurements': 5,\n",
       " 'Minimal rim width region NS mean (mm)': 0.2907569539749501,\n",
       " 'Minimal rim width region NS n measurements': 6,\n",
       " 'Minimal rim width region N mean (mm)': 0.2941462296058242,\n",
       " 'Minimal rim width region N n measurements': 14,\n",
       " 'Minimal rim width region NI mean (mm)': 0.3138180386173194,\n",
       " 'Minimal rim width region NI n measurements': 6,\n",
       " 'Minimal rim width region TI mean (mm)': 0.34508150515123853,\n",
       " 'Minimal rim width region TI n measurements': 5,\n",
       " 'Minimal rim width global mean (mm)': 0.27172865756904857}"
      ]
     },
     "execution_count": 6,
     "metadata": {},
     "output_type": "execute_result"
    }
   ],
   "source": [
    "import matplotlib.pyplot as plt\n",
    "\n",
    "grouped.get_all_features()\n"
   ]
  }
 ],
 "metadata": {
  "kernelspec": {
   "display_name": "rtnls-env",
   "language": "python",
   "name": "python3"
  },
  "language_info": {
   "codemirror_mode": {
    "name": "ipython",
    "version": 3
   },
   "file_extension": ".py",
   "mimetype": "text/x-python",
   "name": "python",
   "nbconvert_exporter": "python",
   "pygments_lexer": "ipython3",
   "version": "3.11.8"
  }
 },
 "nbformat": 4,
 "nbformat_minor": 2
}
